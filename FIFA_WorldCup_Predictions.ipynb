{
 "cells": [
  {
   "cell_type": "markdown",
   "metadata": {},
   "source": [
    "## FIFA 2018 World Predictions Using Machine Learning"
   ]
  },
  {
   "cell_type": "markdown",
   "metadata": {},
   "source": [
    "#### We will conduct this analysis in three parts:\n",
    "\n",
    "**Part 1:** Conducting exploratory analysis of individual teams\n",
    "\n",
    "**Part 2:** Selecting the appropriate labels and features for our machine learning model\n",
    "\n",
    "**Part 3:** Using our labels and features to forecast the match winners in the 2018 World Cup\n",
    "\n",
    "#### Datasets required\n",
    "\n",
    "Participating Teams Record: https://www.kaggle.com/ahmedelnaggar/fifa-worldcup-2018-dataset\n",
    "\n",
    "International Football Match Results: https://www.kaggle.com/martj42/international-football-results-from-1872-to-2017/data\n",
    "\n",
    "International Mens Team Football Rankings: https://us.soccerway.com/teams/rankings/fifa/?ICID=TN_03_05_01\n",
    "\n",
    "FIFA World Cup 2018 Fixtures and Results: https://fixturedownload.com/results/fifa-world-cup-2018"
   ]
  },
  {
   "cell_type": "markdown",
   "metadata": {},
   "source": [
    "## Data Analysis\n",
    "\n",
    "### Exporting the Modules\n",
    "\n"
   ]
  },
  {
   "cell_type": "code",
   "execution_count": 1,
   "metadata": {},
   "outputs": [],
   "source": [
    "import pandas as pd\n",
    "import numpy as np\n",
    "import matplotlib.pyplot as plt\n",
    "import seaborn as sns\n",
    "import matplotlib.ticker as ticker\n",
    "import matplotlib.ticker as plticker\n",
    "from sklearn.model_selection import train_test_split\n",
    "from sklearn.linear_model import LogisticRegression\n",
    "sns.set()\n",
    "\n",
    "world_cup = pd.read_csv('World Cup 2018 Dataset.csv')\n",
    "results = pd.read_csv('results.csv')"
   ]
  },
  {
   "cell_type": "markdown",
   "metadata": {},
   "source": [
    "#### Column Features\n",
    "\n",
    "The `world_cup` and `results` variable outlines the columns listed in the dataset. Some of these columns will be used, while others are irrelevant for our analysis. "
   ]
  },
  {
   "cell_type": "code",
   "execution_count": 2,
   "metadata": {},
   "outputs": [
    {
     "data": {
      "text/html": [
       "<div>\n",
       "<style scoped>\n",
       "    .dataframe tbody tr th:only-of-type {\n",
       "        vertical-align: middle;\n",
       "    }\n",
       "\n",
       "    .dataframe tbody tr th {\n",
       "        vertical-align: top;\n",
       "    }\n",
       "\n",
       "    .dataframe thead th {\n",
       "        text-align: right;\n",
       "    }\n",
       "</style>\n",
       "<table border=\"1\" class=\"dataframe\">\n",
       "  <thead>\n",
       "    <tr style=\"text-align: right;\">\n",
       "      <th></th>\n",
       "      <th>date</th>\n",
       "      <th>home_team</th>\n",
       "      <th>away_team</th>\n",
       "      <th>home_score</th>\n",
       "      <th>away_score</th>\n",
       "      <th>tournament</th>\n",
       "      <th>city</th>\n",
       "      <th>country</th>\n",
       "    </tr>\n",
       "  </thead>\n",
       "  <tbody>\n",
       "    <tr>\n",
       "      <th>0</th>\n",
       "      <td>1872-11-30</td>\n",
       "      <td>Scotland</td>\n",
       "      <td>England</td>\n",
       "      <td>0</td>\n",
       "      <td>0</td>\n",
       "      <td>Friendly</td>\n",
       "      <td>Glasgow</td>\n",
       "      <td>Scotland</td>\n",
       "    </tr>\n",
       "    <tr>\n",
       "      <th>1</th>\n",
       "      <td>1873-03-08</td>\n",
       "      <td>England</td>\n",
       "      <td>Scotland</td>\n",
       "      <td>4</td>\n",
       "      <td>2</td>\n",
       "      <td>Friendly</td>\n",
       "      <td>London</td>\n",
       "      <td>England</td>\n",
       "    </tr>\n",
       "    <tr>\n",
       "      <th>2</th>\n",
       "      <td>1874-03-07</td>\n",
       "      <td>Scotland</td>\n",
       "      <td>England</td>\n",
       "      <td>2</td>\n",
       "      <td>1</td>\n",
       "      <td>Friendly</td>\n",
       "      <td>Glasgow</td>\n",
       "      <td>Scotland</td>\n",
       "    </tr>\n",
       "    <tr>\n",
       "      <th>3</th>\n",
       "      <td>1875-03-06</td>\n",
       "      <td>England</td>\n",
       "      <td>Scotland</td>\n",
       "      <td>2</td>\n",
       "      <td>2</td>\n",
       "      <td>Friendly</td>\n",
       "      <td>London</td>\n",
       "      <td>England</td>\n",
       "    </tr>\n",
       "    <tr>\n",
       "      <th>4</th>\n",
       "      <td>1876-03-04</td>\n",
       "      <td>Scotland</td>\n",
       "      <td>England</td>\n",
       "      <td>3</td>\n",
       "      <td>0</td>\n",
       "      <td>Friendly</td>\n",
       "      <td>Glasgow</td>\n",
       "      <td>Scotland</td>\n",
       "    </tr>\n",
       "  </tbody>\n",
       "</table>\n",
       "</div>"
      ],
      "text/plain": [
       "         date home_team away_team  home_score  away_score tournament     city  \\\n",
       "0  1872-11-30  Scotland   England           0           0   Friendly  Glasgow   \n",
       "1  1873-03-08   England  Scotland           4           2   Friendly   London   \n",
       "2  1874-03-07  Scotland   England           2           1   Friendly  Glasgow   \n",
       "3  1875-03-06   England  Scotland           2           2   Friendly   London   \n",
       "4  1876-03-04  Scotland   England           3           0   Friendly  Glasgow   \n",
       "\n",
       "    country  \n",
       "0  Scotland  \n",
       "1   England  \n",
       "2  Scotland  \n",
       "3   England  \n",
       "4  Scotland  "
      ]
     },
     "execution_count": 2,
     "metadata": {},
     "output_type": "execute_result"
    }
   ],
   "source": [
    "world_cup.head()\n",
    "results.head()"
   ]
  },
  {
   "cell_type": "markdown",
   "metadata": {},
   "source": [
    "#### Goal Difference and Establishing the Winner\n",
    "\n",
    "The `results` dataset shows all FIFA matches since 1872, as well as the location and the outcome. However, for the algorithm's purpose, it is unable to distinguish between winner and loser. We need a way for use to be able to tell the algorithm who was the winner or loser of each match (if there were winners/losers).\n",
    "\n",
    "We also need to determine the goal differential (we will explain later)."
   ]
  },
  {
   "cell_type": "code",
   "execution_count": 3,
   "metadata": {},
   "outputs": [
    {
     "data": {
      "text/html": [
       "<div>\n",
       "<style scoped>\n",
       "    .dataframe tbody tr th:only-of-type {\n",
       "        vertical-align: middle;\n",
       "    }\n",
       "\n",
       "    .dataframe tbody tr th {\n",
       "        vertical-align: top;\n",
       "    }\n",
       "\n",
       "    .dataframe thead th {\n",
       "        text-align: right;\n",
       "    }\n",
       "</style>\n",
       "<table border=\"1\" class=\"dataframe\">\n",
       "  <thead>\n",
       "    <tr style=\"text-align: right;\">\n",
       "      <th></th>\n",
       "      <th>date</th>\n",
       "      <th>home_team</th>\n",
       "      <th>away_team</th>\n",
       "      <th>home_score</th>\n",
       "      <th>away_score</th>\n",
       "      <th>tournament</th>\n",
       "      <th>city</th>\n",
       "      <th>country</th>\n",
       "      <th>winning_team</th>\n",
       "      <th>goal_difference</th>\n",
       "    </tr>\n",
       "  </thead>\n",
       "  <tbody>\n",
       "    <tr>\n",
       "      <th>0</th>\n",
       "      <td>1872-11-30</td>\n",
       "      <td>Scotland</td>\n",
       "      <td>England</td>\n",
       "      <td>0</td>\n",
       "      <td>0</td>\n",
       "      <td>Friendly</td>\n",
       "      <td>Glasgow</td>\n",
       "      <td>Scotland</td>\n",
       "      <td>Draw</td>\n",
       "      <td>0</td>\n",
       "    </tr>\n",
       "    <tr>\n",
       "      <th>1</th>\n",
       "      <td>1873-03-08</td>\n",
       "      <td>England</td>\n",
       "      <td>Scotland</td>\n",
       "      <td>4</td>\n",
       "      <td>2</td>\n",
       "      <td>Friendly</td>\n",
       "      <td>London</td>\n",
       "      <td>England</td>\n",
       "      <td>England</td>\n",
       "      <td>2</td>\n",
       "    </tr>\n",
       "    <tr>\n",
       "      <th>2</th>\n",
       "      <td>1874-03-07</td>\n",
       "      <td>Scotland</td>\n",
       "      <td>England</td>\n",
       "      <td>2</td>\n",
       "      <td>1</td>\n",
       "      <td>Friendly</td>\n",
       "      <td>Glasgow</td>\n",
       "      <td>Scotland</td>\n",
       "      <td>Scotland</td>\n",
       "      <td>1</td>\n",
       "    </tr>\n",
       "    <tr>\n",
       "      <th>3</th>\n",
       "      <td>1875-03-06</td>\n",
       "      <td>England</td>\n",
       "      <td>Scotland</td>\n",
       "      <td>2</td>\n",
       "      <td>2</td>\n",
       "      <td>Friendly</td>\n",
       "      <td>London</td>\n",
       "      <td>England</td>\n",
       "      <td>Draw</td>\n",
       "      <td>0</td>\n",
       "    </tr>\n",
       "    <tr>\n",
       "      <th>4</th>\n",
       "      <td>1876-03-04</td>\n",
       "      <td>Scotland</td>\n",
       "      <td>England</td>\n",
       "      <td>3</td>\n",
       "      <td>0</td>\n",
       "      <td>Friendly</td>\n",
       "      <td>Glasgow</td>\n",
       "      <td>Scotland</td>\n",
       "      <td>Scotland</td>\n",
       "      <td>3</td>\n",
       "    </tr>\n",
       "  </tbody>\n",
       "</table>\n",
       "</div>"
      ],
      "text/plain": [
       "         date home_team away_team  home_score  away_score tournament     city  \\\n",
       "0  1872-11-30  Scotland   England           0           0   Friendly  Glasgow   \n",
       "1  1873-03-08   England  Scotland           4           2   Friendly   London   \n",
       "2  1874-03-07  Scotland   England           2           1   Friendly  Glasgow   \n",
       "3  1875-03-06   England  Scotland           2           2   Friendly   London   \n",
       "4  1876-03-04  Scotland   England           3           0   Friendly  Glasgow   \n",
       "\n",
       "    country winning_team  goal_difference  \n",
       "0  Scotland         Draw                0  \n",
       "1   England      England                2  \n",
       "2  Scotland     Scotland                1  \n",
       "3   England         Draw                0  \n",
       "4  Scotland     Scotland                3  "
      ]
     },
     "execution_count": 3,
     "metadata": {},
     "output_type": "execute_result"
    }
   ],
   "source": [
    "#Adding goal difference and establishing who is the winner \n",
    "winner = []\n",
    "for i in range (len(results['home_team'])):\n",
    "    if results ['home_score'][i] > results['away_score'][i]:\n",
    "        winner.append(results['home_team'][i])\n",
    "    elif results['home_score'][i] < results ['away_score'][i]:\n",
    "        winner.append(results['away_team'][i])\n",
    "    else:\n",
    "        winner.append('Draw')\n",
    "results['winning_team'] = winner\n",
    "\n",
    "#adding goal difference column\n",
    "results['goal_difference'] = np.absolute(results['home_score'] - results['away_score'])\n",
    "\n",
    "results.head()"
   ]
  },
  {
   "cell_type": "markdown",
   "metadata": {},
   "source": [
    "We want to work with a data that includes games played by a participating team. I wanted to analyze the US Mens National Team, but unforunately, they were eliminated by Trinidad & Tobago in the qualifying rounds.\n",
    "\n",
    "The Danish Mens National Team (NKVD) was also eliminated by The Swedish Mens National Team. Because of this, I have chosen to analyze the German Mens National Team."
   ]
  },
  {
   "cell_type": "code",
   "execution_count": 4,
   "metadata": {},
   "outputs": [
    {
     "data": {
      "text/html": [
       "<div>\n",
       "<style scoped>\n",
       "    .dataframe tbody tr th:only-of-type {\n",
       "        vertical-align: middle;\n",
       "    }\n",
       "\n",
       "    .dataframe tbody tr th {\n",
       "        vertical-align: top;\n",
       "    }\n",
       "\n",
       "    .dataframe thead th {\n",
       "        text-align: right;\n",
       "    }\n",
       "</style>\n",
       "<table border=\"1\" class=\"dataframe\">\n",
       "  <thead>\n",
       "    <tr style=\"text-align: right;\">\n",
       "      <th></th>\n",
       "      <th>date</th>\n",
       "      <th>home_team</th>\n",
       "      <th>away_team</th>\n",
       "      <th>home_score</th>\n",
       "      <th>away_score</th>\n",
       "      <th>tournament</th>\n",
       "      <th>city</th>\n",
       "      <th>country</th>\n",
       "      <th>winning_team</th>\n",
       "      <th>goal_difference</th>\n",
       "    </tr>\n",
       "  </thead>\n",
       "  <tbody>\n",
       "    <tr>\n",
       "      <th>209</th>\n",
       "      <td>1908-04-05</td>\n",
       "      <td>Switzerland</td>\n",
       "      <td>Germany</td>\n",
       "      <td>5</td>\n",
       "      <td>3</td>\n",
       "      <td>Friendly</td>\n",
       "      <td>Basel</td>\n",
       "      <td>Switzerland</td>\n",
       "      <td>Switzerland</td>\n",
       "      <td>2</td>\n",
       "    </tr>\n",
       "    <tr>\n",
       "      <th>216</th>\n",
       "      <td>1908-06-07</td>\n",
       "      <td>Austria</td>\n",
       "      <td>Germany</td>\n",
       "      <td>3</td>\n",
       "      <td>2</td>\n",
       "      <td>Friendly</td>\n",
       "      <td>Vienna</td>\n",
       "      <td>Austria</td>\n",
       "      <td>Austria</td>\n",
       "      <td>1</td>\n",
       "    </tr>\n",
       "    <tr>\n",
       "      <th>234</th>\n",
       "      <td>1909-04-04</td>\n",
       "      <td>Germany</td>\n",
       "      <td>Switzerland</td>\n",
       "      <td>1</td>\n",
       "      <td>0</td>\n",
       "      <td>Friendly</td>\n",
       "      <td>Karlsruhe</td>\n",
       "      <td>Germany</td>\n",
       "      <td>Germany</td>\n",
       "      <td>1</td>\n",
       "    </tr>\n",
       "    <tr>\n",
       "      <th>235</th>\n",
       "      <td>1909-04-04</td>\n",
       "      <td>Hungary</td>\n",
       "      <td>Germany</td>\n",
       "      <td>3</td>\n",
       "      <td>3</td>\n",
       "      <td>Friendly</td>\n",
       "      <td>Budapest</td>\n",
       "      <td>Hungary</td>\n",
       "      <td>Draw</td>\n",
       "      <td>0</td>\n",
       "    </tr>\n",
       "    <tr>\n",
       "      <th>253</th>\n",
       "      <td>1910-04-03</td>\n",
       "      <td>Switzerland</td>\n",
       "      <td>Germany</td>\n",
       "      <td>2</td>\n",
       "      <td>3</td>\n",
       "      <td>Friendly</td>\n",
       "      <td>Basel</td>\n",
       "      <td>Switzerland</td>\n",
       "      <td>Germany</td>\n",
       "      <td>1</td>\n",
       "    </tr>\n",
       "  </tbody>\n",
       "</table>\n",
       "</div>"
      ],
      "text/plain": [
       "           date    home_team    away_team  home_score  away_score tournament  \\\n",
       "209  1908-04-05  Switzerland      Germany           5           3   Friendly   \n",
       "216  1908-06-07      Austria      Germany           3           2   Friendly   \n",
       "234  1909-04-04      Germany  Switzerland           1           0   Friendly   \n",
       "235  1909-04-04      Hungary      Germany           3           3   Friendly   \n",
       "253  1910-04-03  Switzerland      Germany           2           3   Friendly   \n",
       "\n",
       "          city      country winning_team  goal_difference  \n",
       "209      Basel  Switzerland  Switzerland                2  \n",
       "216     Vienna      Austria      Austria                1  \n",
       "234  Karlsruhe      Germany      Germany                1  \n",
       "235   Budapest      Hungary         Draw                0  \n",
       "253      Basel  Switzerland      Germany                1  "
      ]
     },
     "execution_count": 4,
     "metadata": {},
     "output_type": "execute_result"
    }
   ],
   "source": [
    "df = results[(results['home_team'] == 'Germany') | (results['away_team'] == 'Germany')]\n",
    "germany = df.iloc[:]\n",
    "germany.head()"
   ]
  },
  {
   "cell_type": "markdown",
   "metadata": {},
   "source": [
    "Now we have the matches which only contain the German Mens National Team. However, we're only interested in analzing matches that occured during the World Cup era. The first world cup took place in 1930. As such, we will only look at matches that took place after 1930."
   ]
  },
  {
   "cell_type": "code",
   "execution_count": 5,
   "metadata": {},
   "outputs": [
    {
     "data": {
      "text/plain": [
       "date               863\n",
       "home_team          863\n",
       "away_team          863\n",
       "home_score         863\n",
       "away_score         863\n",
       "tournament         863\n",
       "city               863\n",
       "country            863\n",
       "winning_team       863\n",
       "goal_difference    863\n",
       "match_year         863\n",
       "dtype: int64"
      ]
     },
     "execution_count": 5,
     "metadata": {},
     "output_type": "execute_result"
    }
   ],
   "source": [
    "year = []\n",
    "for row in germany['date']:\n",
    "    year.append(int(row[:4]))\n",
    "germany['match_year'] = year\n",
    "germany_1930 = germany[germany.match_year >= 1930]\n",
    "germany_1930.count()"
   ]
  },
  {
   "cell_type": "markdown",
   "metadata": {},
   "source": [
    "We have 863 recorded matches for the German Mens National Football Team. We can now visualize the most common outcome for the Germany throughout the years."
   ]
  },
  {
   "cell_type": "code",
   "execution_count": 6,
   "metadata": {},
   "outputs": [
    {
     "data": {
      "text/plain": [
       "<matplotlib.axes._subplots.AxesSubplot at 0x7fa5da132d30>"
      ]
     },
     "execution_count": 6,
     "metadata": {},
     "output_type": "execute_result"
    },
    {
     "data": {
      "image/png": "[encoded data removed]",
      "text/plain": [
       "<Figure size 770.4x451.44 with 1 Axes>"
      ]
     },
     "metadata": {
      "needs_background": "light"
     },
     "output_type": "display_data"
    }
   ],
   "source": [
    "wins = []\n",
    "for row in germany_1930['winning_team']:\n",
    "    if row != 'Germany' and row != 'Draw':\n",
    "        wins.append('Loss')\n",
    "    else:\n",
    "        wins.append(row)\n",
    "winsdf = pd.DataFrame(wins, columns = ['Germany_Results'])\n",
    "\n",
    "fig, ax = plt.subplots(1)\n",
    "fig.set_size_inches(10.7,6.27)\n",
    "sns.set(style = 'darkgrid')\n",
    "sns.countplot(x = 'Germany_Results', data=winsdf)"
   ]
  },
  {
   "cell_type": "markdown",
   "metadata": {},
   "source": [
    "The win rate is a good metric to analyze and predict outcomes of matches in the tournament. The venues; however, won't add much value to our predictions. We can use historical match records to aid our analysis.\n",
    "\n",
    "For now, we must list the participating teams in the 2018 World Cup. The teams are outlined in the following groups:\n",
    "\n",
    "**Group A:** Uruguay, Russia, Saudi Arabia, Egypt\n",
    "<br>**Group B:** Spain, Portugal, Iran, Morocco\n",
    "<br>**Group C:** France, Denmark, Peru, Australia\n",
    "<br>**Group D:** Croatia, Argentina, Nigeria, Iceland\n",
    "<br>**Group E:** Brazil, Switzerland, Serbia, Costa Rica\n",
    "<br>**Group F:** Sweden, Mexico, South Korea, Germany\n",
    "<br>**Group G:** Belgium, England, Tunisia, Panama\n",
    "<br>**Group H:** Columbia, Japan, Senegal, Poland\n",
    "\n",
    "With these groups, we need to create a dataframe that shows only teams in this year's world up from 1930 onwards as well as drop duplicates. We also need to create a year column and drop games before the year 1930, as well as columns that won't affect match outcome for example date, home_score, away_score, tournament, city, country, goal_difference, and match_year."
   ]
  },
  {
   "cell_type": "code",
   "execution_count": 7,
   "metadata": {},
   "outputs": [
    {
     "data": {
      "text/html": [
       "<div>\n",
       "<style scoped>\n",
       "    .dataframe tbody tr th:only-of-type {\n",
       "        vertical-align: middle;\n",
       "    }\n",
       "\n",
       "    .dataframe tbody tr th {\n",
       "        vertical-align: top;\n",
       "    }\n",
       "\n",
       "    .dataframe thead th {\n",
       "        text-align: right;\n",
       "    }\n",
       "</style>\n",
       "<table border=\"1\" class=\"dataframe\">\n",
       "  <thead>\n",
       "    <tr style=\"text-align: right;\">\n",
       "      <th></th>\n",
       "      <th>home_team</th>\n",
       "      <th>away_team</th>\n",
       "      <th>winning_team</th>\n",
       "    </tr>\n",
       "  </thead>\n",
       "  <tbody>\n",
       "    <tr>\n",
       "      <th>1</th>\n",
       "      <td>England</td>\n",
       "      <td>Scotland</td>\n",
       "      <td>England</td>\n",
       "    </tr>\n",
       "    <tr>\n",
       "      <th>3</th>\n",
       "      <td>England</td>\n",
       "      <td>Scotland</td>\n",
       "      <td>Draw</td>\n",
       "    </tr>\n",
       "    <tr>\n",
       "      <th>6</th>\n",
       "      <td>England</td>\n",
       "      <td>Scotland</td>\n",
       "      <td>Scotland</td>\n",
       "    </tr>\n",
       "    <tr>\n",
       "      <th>10</th>\n",
       "      <td>England</td>\n",
       "      <td>Wales</td>\n",
       "      <td>England</td>\n",
       "    </tr>\n",
       "    <tr>\n",
       "      <th>11</th>\n",
       "      <td>England</td>\n",
       "      <td>Scotland</td>\n",
       "      <td>England</td>\n",
       "    </tr>\n",
       "  </tbody>\n",
       "</table>\n",
       "</div>"
      ],
      "text/plain": [
       "   home_team away_team winning_team\n",
       "1    England  Scotland      England\n",
       "3    England  Scotland         Draw\n",
       "6    England  Scotland     Scotland\n",
       "10   England     Wales      England\n",
       "11   England  Scotland      England"
      ]
     },
     "execution_count": 7,
     "metadata": {},
     "output_type": "execute_result"
    }
   ],
   "source": [
    "worldcup_teams = ['Australia', 'Iran', 'Japan', 'Korea Republic',\n",
    "                  'Saudi Arabia', 'Egypt', 'Morocco', 'Nigeria',\n",
    "                  'Senegal', 'Tunisia', 'Costa Rica', 'Mexico',\n",
    "                  'Panama', 'Argentina', 'Brazil', 'Colombia',\n",
    "                  'Peru', 'Uruguay', 'Belgium', 'Croatia',\n",
    "                  'Denmark', 'England', 'France', 'Germany',\n",
    "                  'Iceland', 'Poland', 'Portugal', 'Russia',\n",
    "                  'Serbia', 'Spain', 'Sweden', 'Switzerland']\n",
    "\n",
    "df_teams_home = results[results['home_team'].isin(worldcup_teams)]\n",
    "df_teams_away = results[results['away_team'].isin(worldcup_teams)]\n",
    "df_teams = pd.concat((df_teams_home, df_teams_away))\n",
    "df_teams.drop_duplicates()\n",
    "df_teams.count()\n",
    "\n",
    "year = []\n",
    "for row in df_teams['date']:\n",
    "    year.append(int(row[:4]))\n",
    "df_teams['match_year'] = year\n",
    "df_teams_1930 = df_teams[df_teams.match_year >= 1930]\n",
    "df_teams_1930.head()\n",
    "\n",
    "df_teams_1930 = df_teams.drop(['date', 'home_score', 'away_score', 'tournament', 'city', 'country',\n",
    "                               'goal_difference', 'match_year'], axis = 1)\n",
    "\n",
    "df_teams_1930.head()"
   ]
  },
  {
   "cell_type": "markdown",
   "metadata": {},
   "source": [
    "## Building The Model"
   ]
  },
  {
   "cell_type": "markdown",
   "metadata": {},
   "source": [
    "We need to establish the prediction labels for our model. Our prediction label will be the winning_team column, which will show \"2\" if the home team has won, \"1\" if the match results in a draw, and \"0\" if the away team has won."
   ]
  },
  {
   "cell_type": "code",
   "execution_count": 8,
   "metadata": {},
   "outputs": [
    {
     "data": {
      "text/html": [
       "<div>\n",
       "<style scoped>\n",
       "    .dataframe tbody tr th:only-of-type {\n",
       "        vertical-align: middle;\n",
       "    }\n",
       "\n",
       "    .dataframe tbody tr th {\n",
       "        vertical-align: top;\n",
       "    }\n",
       "\n",
       "    .dataframe thead th {\n",
       "        text-align: right;\n",
       "    }\n",
       "</style>\n",
       "<table border=\"1\" class=\"dataframe\">\n",
       "  <thead>\n",
       "    <tr style=\"text-align: right;\">\n",
       "      <th></th>\n",
       "      <th>home_team</th>\n",
       "      <th>away_team</th>\n",
       "      <th>winning_team</th>\n",
       "    </tr>\n",
       "  </thead>\n",
       "  <tbody>\n",
       "    <tr>\n",
       "      <th>0</th>\n",
       "      <td>England</td>\n",
       "      <td>Scotland</td>\n",
       "      <td>2</td>\n",
       "    </tr>\n",
       "    <tr>\n",
       "      <th>1</th>\n",
       "      <td>England</td>\n",
       "      <td>Scotland</td>\n",
       "      <td>1</td>\n",
       "    </tr>\n",
       "    <tr>\n",
       "      <th>2</th>\n",
       "      <td>England</td>\n",
       "      <td>Scotland</td>\n",
       "      <td>0</td>\n",
       "    </tr>\n",
       "    <tr>\n",
       "      <th>3</th>\n",
       "      <td>England</td>\n",
       "      <td>Wales</td>\n",
       "      <td>2</td>\n",
       "    </tr>\n",
       "    <tr>\n",
       "      <th>4</th>\n",
       "      <td>England</td>\n",
       "      <td>Scotland</td>\n",
       "      <td>2</td>\n",
       "    </tr>\n",
       "  </tbody>\n",
       "</table>\n",
       "</div>"
      ],
      "text/plain": [
       "  home_team away_team winning_team\n",
       "0   England  Scotland            2\n",
       "1   England  Scotland            1\n",
       "2   England  Scotland            0\n",
       "3   England     Wales            2\n",
       "4   England  Scotland            2"
      ]
     },
     "execution_count": 8,
     "metadata": {},
     "output_type": "execute_result"
    }
   ],
   "source": [
    "df_teams_1930 = df_teams_1930.reset_index(drop=True)\n",
    "df_teams_1930.loc[df_teams_1930.winning_team == df_teams_1930.home_team,'winning_team']=2\n",
    "df_teams_1930.loc[df_teams_1930.winning_team == 'Draw', 'winning_team']=1\n",
    "df_teams_1930.loc[df_teams_1930.winning_team == df_teams_1930.away_team, 'winning_team']=0\n",
    "\n",
    "df_teams_1930.head()"
   ]
  },
  {
   "cell_type": "markdown",
   "metadata": {},
   "source": [
    "Next, we convert the home_team and away_team columns from categorical variables to continous variables. By using the `pd.get_dummies()` function, we can assign dummy variables to the categorical variables.\n",
    "\n",
    "We we separate the labels and features, the `train_test_split` function will split the data into 70 percent training and 30 percetn testing."
   ]
  },
  {
   "cell_type": "code",
   "execution_count": 9,
   "metadata": {},
   "outputs": [],
   "source": [
    "final = pd.get_dummies(df_teams_1930, prefix=['home_team', 'away_team'], columns=['home_team', 'away_team'])\n",
    "\n",
    "# Separate X and y sets\n",
    "X = final.drop(['winning_team'], axis=1)\n",
    "y = final[\"winning_team\"]\n",
    "y = y.astype('int')\n",
    "\n",
    "# Separate train and test sets\n",
    "X_train, X_test, y_train, y_test = train_test_split(X, y, test_size=0.30, random_state=42)"
   ]
  },
  {
   "cell_type": "code",
   "execution_count": 10,
   "metadata": {},
   "outputs": [
    {
     "data": {
      "text/html": [
       "<div>\n",
       "<style scoped>\n",
       "    .dataframe tbody tr th:only-of-type {\n",
       "        vertical-align: middle;\n",
       "    }\n",
       "\n",
       "    .dataframe tbody tr th {\n",
       "        vertical-align: top;\n",
       "    }\n",
       "\n",
       "    .dataframe thead th {\n",
       "        text-align: right;\n",
       "    }\n",
       "</style>\n",
       "<table border=\"1\" class=\"dataframe\">\n",
       "  <thead>\n",
       "    <tr style=\"text-align: right;\">\n",
       "      <th></th>\n",
       "      <th>winning_team</th>\n",
       "      <th>home_team_Afghanistan</th>\n",
       "      <th>home_team_Albania</th>\n",
       "      <th>home_team_Algeria</th>\n",
       "      <th>home_team_Andorra</th>\n",
       "      <th>home_team_Angola</th>\n",
       "      <th>home_team_Argentina</th>\n",
       "      <th>home_team_Armenia</th>\n",
       "      <th>home_team_Aruba</th>\n",
       "      <th>home_team_Australia</th>\n",
       "      <th>...</th>\n",
       "      <th>away_team_Venezuela</th>\n",
       "      <th>away_team_Vietnam</th>\n",
       "      <th>away_team_Vietnam Republic</th>\n",
       "      <th>away_team_Wales</th>\n",
       "      <th>away_team_Western Australia</th>\n",
       "      <th>away_team_Yemen</th>\n",
       "      <th>away_team_Yemen DPR</th>\n",
       "      <th>away_team_Yugoslavia</th>\n",
       "      <th>away_team_Zambia</th>\n",
       "      <th>away_team_Zimbabwe</th>\n",
       "    </tr>\n",
       "  </thead>\n",
       "  <tbody>\n",
       "    <tr>\n",
       "      <th>0</th>\n",
       "      <td>2</td>\n",
       "      <td>0</td>\n",
       "      <td>0</td>\n",
       "      <td>0</td>\n",
       "      <td>0</td>\n",
       "      <td>0</td>\n",
       "      <td>0</td>\n",
       "      <td>0</td>\n",
       "      <td>0</td>\n",
       "      <td>0</td>\n",
       "      <td>...</td>\n",
       "      <td>0</td>\n",
       "      <td>0</td>\n",
       "      <td>0</td>\n",
       "      <td>0</td>\n",
       "      <td>0</td>\n",
       "      <td>0</td>\n",
       "      <td>0</td>\n",
       "      <td>0</td>\n",
       "      <td>0</td>\n",
       "      <td>0</td>\n",
       "    </tr>\n",
       "    <tr>\n",
       "      <th>1</th>\n",
       "      <td>1</td>\n",
       "      <td>0</td>\n",
       "      <td>0</td>\n",
       "      <td>0</td>\n",
       "      <td>0</td>\n",
       "      <td>0</td>\n",
       "      <td>0</td>\n",
       "      <td>0</td>\n",
       "      <td>0</td>\n",
       "      <td>0</td>\n",
       "      <td>...</td>\n",
       "      <td>0</td>\n",
       "      <td>0</td>\n",
       "      <td>0</td>\n",
       "      <td>0</td>\n",
       "      <td>0</td>\n",
       "      <td>0</td>\n",
       "      <td>0</td>\n",
       "      <td>0</td>\n",
       "      <td>0</td>\n",
       "      <td>0</td>\n",
       "    </tr>\n",
       "    <tr>\n",
       "      <th>2</th>\n",
       "      <td>0</td>\n",
       "      <td>0</td>\n",
       "      <td>0</td>\n",
       "      <td>0</td>\n",
       "      <td>0</td>\n",
       "      <td>0</td>\n",
       "      <td>0</td>\n",
       "      <td>0</td>\n",
       "      <td>0</td>\n",
       "      <td>0</td>\n",
       "      <td>...</td>\n",
       "      <td>0</td>\n",
       "      <td>0</td>\n",
       "      <td>0</td>\n",
       "      <td>0</td>\n",
       "      <td>0</td>\n",
       "      <td>0</td>\n",
       "      <td>0</td>\n",
       "      <td>0</td>\n",
       "      <td>0</td>\n",
       "      <td>0</td>\n",
       "    </tr>\n",
       "    <tr>\n",
       "      <th>3</th>\n",
       "      <td>2</td>\n",
       "      <td>0</td>\n",
       "      <td>0</td>\n",
       "      <td>0</td>\n",
       "      <td>0</td>\n",
       "      <td>0</td>\n",
       "      <td>0</td>\n",
       "      <td>0</td>\n",
       "      <td>0</td>\n",
       "      <td>0</td>\n",
       "      <td>...</td>\n",
       "      <td>0</td>\n",
       "      <td>0</td>\n",
       "      <td>0</td>\n",
       "      <td>1</td>\n",
       "      <td>0</td>\n",
       "      <td>0</td>\n",
       "      <td>0</td>\n",
       "      <td>0</td>\n",
       "      <td>0</td>\n",
       "      <td>0</td>\n",
       "    </tr>\n",
       "    <tr>\n",
       "      <th>4</th>\n",
       "      <td>2</td>\n",
       "      <td>0</td>\n",
       "      <td>0</td>\n",
       "      <td>0</td>\n",
       "      <td>0</td>\n",
       "      <td>0</td>\n",
       "      <td>0</td>\n",
       "      <td>0</td>\n",
       "      <td>0</td>\n",
       "      <td>0</td>\n",
       "      <td>...</td>\n",
       "      <td>0</td>\n",
       "      <td>0</td>\n",
       "      <td>0</td>\n",
       "      <td>0</td>\n",
       "      <td>0</td>\n",
       "      <td>0</td>\n",
       "      <td>0</td>\n",
       "      <td>0</td>\n",
       "      <td>0</td>\n",
       "      <td>0</td>\n",
       "    </tr>\n",
       "  </tbody>\n",
       "</table>\n",
       "<p>5 rows × 417 columns</p>\n",
       "</div>"
      ],
      "text/plain": [
       "  winning_team  home_team_Afghanistan  home_team_Albania  home_team_Algeria  \\\n",
       "0            2                      0                  0                  0   \n",
       "1            1                      0                  0                  0   \n",
       "2            0                      0                  0                  0   \n",
       "3            2                      0                  0                  0   \n",
       "4            2                      0                  0                  0   \n",
       "\n",
       "   home_team_Andorra  home_team_Angola  home_team_Argentina  \\\n",
       "0                  0                 0                    0   \n",
       "1                  0                 0                    0   \n",
       "2                  0                 0                    0   \n",
       "3                  0                 0                    0   \n",
       "4                  0                 0                    0   \n",
       "\n",
       "   home_team_Armenia  home_team_Aruba  home_team_Australia  ...  \\\n",
       "0                  0                0                    0  ...   \n",
       "1                  0                0                    0  ...   \n",
       "2                  0                0                    0  ...   \n",
       "3                  0                0                    0  ...   \n",
       "4                  0                0                    0  ...   \n",
       "\n",
       "   away_team_Venezuela  away_team_Vietnam  away_team_Vietnam Republic  \\\n",
       "0                    0                  0                           0   \n",
       "1                    0                  0                           0   \n",
       "2                    0                  0                           0   \n",
       "3                    0                  0                           0   \n",
       "4                    0                  0                           0   \n",
       "\n",
       "   away_team_Wales  away_team_Western Australia  away_team_Yemen  \\\n",
       "0                0                            0                0   \n",
       "1                0                            0                0   \n",
       "2                0                            0                0   \n",
       "3                1                            0                0   \n",
       "4                0                            0                0   \n",
       "\n",
       "   away_team_Yemen DPR  away_team_Yugoslavia  away_team_Zambia  \\\n",
       "0                    0                     0                 0   \n",
       "1                    0                     0                 0   \n",
       "2                    0                     0                 0   \n",
       "3                    0                     0                 0   \n",
       "4                    0                     0                 0   \n",
       "\n",
       "   away_team_Zimbabwe  \n",
       "0                   0  \n",
       "1                   0  \n",
       "2                   0  \n",
       "3                   0  \n",
       "4                   0  \n",
       "\n",
       "[5 rows x 417 columns]"
      ]
     },
     "execution_count": 10,
     "metadata": {},
     "output_type": "execute_result"
    }
   ],
   "source": [
    "final.head()"
   ]
  },
  {
   "cell_type": "markdown",
   "metadata": {},
   "source": [
    "#### Logistic Regression\n",
    "\n",
    "The Scikit-learn package allows us to use machine learning packages such as Linear Regression. The only problem is that we can’t use linear regression on a categorical dependent variable. Instead, in such situations, we should try using algorithms such as Logistic Regression.\n",
    "\n",
    "Logistic regression is a Machine Learning classification algorithm that is used to predict the probability of a categorical dependent variable. In logistic regression, the dependent variable is a binary variable that contains data coded as 1 for success or 0 for failure. In other words, the logistic regression model predicts P(Y=1) as a function of X.\n",
    "\n",
    "![Logistic Regression >](https://kidquant.com/post/images/logistic_regression.jpg)\n",
    "\n",
    "Logistic regression is one of the most popular ways to fit models for categorical data, especially for binary response data in Data Modeling. It is the most important (and probably the most used) member of a class of models called generalized linear models. Unlike linear regression, logistic regression can directly predict probabilities (values that are restricted to the (0,1) interval).\n",
    "\n",
    "Logistic Regression is used when the dependent variable (target) is categorical. For example:\n",
    "\n",
    "* To predict whether an email is spam (1) or not spam (0)\n",
    "* Whether a company is a bankrupt (1) or not bankrupt (0)\n",
    "\n",
    "Logistic regression is generally used where the dependent variable is Binary or Dichotomous. That means the dependent variable can take only two possible values, such as “Yes” or “No,” “Default” or “No Default,” “Living” or “Dead,” etc. Independent factors or variables can be categorical or numerical variables.\n",
    "\n",
    "In our case, logistic regression attempts to predict an outcome (a win or loss) given a set of data points (stats) that likely influence that outcome. The way this works in practice is you feed the algorithm one game at a time, with both the aforementioned “set of data” and the actual outcome of the match. The model then learns how each piece of data you feed it influences the result of the game positively, negatively, and to what extent."
   ]
  },
  {
   "cell_type": "markdown",
   "metadata": {},
   "source": [
    "#### Machine Learning: Match Prediction"
   ]
  },
  {
   "cell_type": "code",
   "execution_count": null,
   "metadata": {},
   "outputs": [
    {
     "name": "stderr",
     "output_type": "stream",
     "text": [
      "/srv/conda/envs/notebook/lib/python3.7/site-packages/sklearn/linear_model/logistic.py:432: FutureWarning: Default solver will be changed to 'lbfgs' in 0.22. Specify a solver to silence this warning.\n",
      "  FutureWarning)\n",
      "/srv/conda/envs/notebook/lib/python3.7/site-packages/sklearn/linear_model/logistic.py:469: FutureWarning: Default multi_class will be changed to 'auto' in 0.22. Specify the multi_class option to silence this warning.\n",
      "  \"this warning.\", FutureWarning)\n"
     ]
    }
   ],
   "source": [
    "final.head()\n",
    "logreg = LogisticRegression()\n",
    "logreg.fit(X_train, y_train)\n",
    "score = logreg.score(X_train, y_train)\n",
    "score2 = logreg.score(X_test, y_test)\n",
    "\n",
    "print('Training set accuracy ', '%.3f'%(score))\n",
    "print('Test set accuracy ', '%.3f'%(score2))"
   ]
  },
  {
   "cell_type": "markdown",
   "metadata": {},
   "source": [
    "Passing our features and labels into our algorithm, we recieved a training set accuracy of 0.571 and a testing set accuracy of 0.564, which isn’t the greatest, but we will continue to use these features. At this point, we will create a dataframe that we will deploy out model.\n",
    "\n",
    "FIFA ranking as of April 2018 data set and a dataset containing the fixtures of the group stages of the tournament. The team which is positioned higher on the FIFA Ranking will be considered the “favorite” of the match, and therefore, will be positioned under the “home_teams” column, since obviously the only home team in this world cup is Russia. We will then add teams to the new prediction dataset based on the ranking position of each team. The next step will be to create dummy variables and then deploy the machine learning model."
   ]
  },
  {
   "cell_type": "code",
   "execution_count": null,
   "metadata": {},
   "outputs": [],
   "source": [
    "# Loading new datasets\n",
    "fixtures = pd.read_csv('fixtures.csv')\n",
    "ranking = pd.read_csv('fifa_rankings.csv', encoding = 'latin-1')\n",
    "\n",
    "# List for storing the group stage games\n",
    "pred_set = []\n",
    "\n",
    "# Create new columns with ranking position of each team\n",
    "fixtures.insert(1, 'first_position', fixtures['Home Team'].map(ranking.set_index('Team')['Position']))\n",
    "fixtures.insert(2, 'second_position', fixtures['Away Team'].map(ranking.set_index('Team')['Position']))\n",
    "\n",
    "# We only need the group stage games, so we have to slice the dataset\n",
    "fixtures = fixtures.iloc[:48, :]\n",
    "fixtures.tail()"
   ]
  },
  {
   "cell_type": "code",
   "execution_count": null,
   "metadata": {},
   "outputs": [],
   "source": [
    "# Loop to add teams to new prediction dataset based on the ranking position of each team\n",
    "for index, row in fixtures.iterrows():\n",
    "    if row['first_position'] < row['second_position']:\n",
    "        pred_set.append({'home_team': row['Home Team'], 'away_team': row['Away Team'], 'winning_team': None})\n",
    "    else:\n",
    "        pred_set.append({'home_team': row['Away Team'], 'away_team': row['Home Team'], 'winning_team': None})\n",
    "        \n",
    "pred_set = pd.DataFrame(pred_set)\n",
    "backup_pred_set = pred_set\n",
    "\n",
    "pred_set.head()"
   ]
  },
  {
   "cell_type": "code",
   "execution_count": null,
   "metadata": {},
   "outputs": [],
   "source": [
    "# Get dummy variables and drop winning_team column\n",
    "pred_set = pd.get_dummies(pred_set, prefix=['home_team', 'away_team'], columns=['home_team', 'away_team'])\n",
    "\n",
    "# Add missing columns compared to the model's training dataset\n",
    "missing_cols = set(final.columns) - set(pred_set.columns)\n",
    "for c in missing_cols:\n",
    "    pred_set[c] = 0\n",
    "pred_set = pred_set[final.columns]\n",
    "\n",
    "# Remove winning team column\n",
    "pred_set = pred_set.drop(['winning_team'], axis=1)\n",
    "\n",
    "pred_set.head()"
   ]
  },
  {
   "cell_type": "markdown",
   "metadata": {},
   "source": [
    "Now we have all of our features, we can create a for loop that allows us to predict the winner based on our preferred parameters."
   ]
  },
  {
   "cell_type": "code",
   "execution_count": null,
   "metadata": {},
   "outputs": [],
   "source": [
    "predictions = logreg.predict(pred_set)\n",
    "for i in range(fixtures.shape[0]):\n",
    "    print(backup_pred_set.iloc[i, 1] + ' and ' + backup_pred_set.iloc[i, 0])\n",
    "    if predictions[i] == 2:\n",
    "        print('Winner: ' + backup_pred_set.iloc[i, 1])\n",
    "    elif predictions[i] == 1:\n",
    "        print('Draw')\n",
    "    elif predictions[i] == 0:\n",
    "        print('Winner: ' + backup_pred_set.iloc[i, 0])\n",
    "    print('Probability of Draw: ', '%.3f'%(logreg.predict_proba(pred_set)[i][1]))\n",
    "    print('Probability of ' + backup_pred_set.iloc[i,0] + ' winning: ', '%.3f'%(logreg.predict_proba(pred_set)[i][0]))\n",
    "    print('')"
   ]
  },
  {
   "cell_type": "markdown",
   "metadata": {},
   "source": [
    "Based on this information, it looks like the former champions will be making it out of the Group of Death. Unless the [World Cup Champion’s curse](https://en.wikipedia.org/wiki/Sports-related_curses) has anything to say about it, prehaps Mexico and Sweden will both make it out of group stages."
   ]
  },
  {
   "cell_type": "markdown",
   "metadata": {},
   "source": [
    "### Predicting World Cup Winners\n",
    "\n",
    "#### Knockout Stage (Group of 16)\n",
    "\n",
    "Based on the model, the following matchups are generated.\n",
    "\n",
    "![knock_out stage](https://kidquant.com/post/images/knockout_stage.png)"
   ]
  },
  {
   "cell_type": "markdown",
   "metadata": {},
   "source": [
    "We will create a list of tuples, which will pair up the teams based on this chart."
   ]
  },
  {
   "cell_type": "code",
   "execution_count": 39,
   "metadata": {},
   "outputs": [],
   "source": [
    "group_16 = [('Uruguay', 'Portugal'),\n",
    "            ('France', 'Croatia'),\n",
    "            ('Brazil', 'Mexico'),\n",
    "            ('England', 'Colombia'),\n",
    "            ('Spain', 'Russia'),\n",
    "            ('Argentina', 'Peru'),\n",
    "            ('Germany', 'Switzerland'),\n",
    "            ('Poland', 'Belgium')]"
   ]
  },
  {
   "cell_type": "markdown",
   "metadata": {},
   "source": [
    "Then we will create a function using the same for loop that we created before"
   ]
  },
  {
   "cell_type": "code",
   "execution_count": 40,
   "metadata": {},
   "outputs": [
    {
     "name": "stdout",
     "output_type": "stream",
     "text": [
      "Portugal and Uruguay\n",
      "Winner: Portugal\n",
      "Probability of Portugal winning:  0.441\n",
      "Probability of Draw:  0.278\n",
      "Probaility of Uruguay winning:  0.281\n",
      "\n",
      "France and Croatia\n",
      "Winner: France\n",
      "Probability of France winning:  0.476\n",
      "Probability of Draw:  0.209\n",
      "Probaility of Croatia winning:  0.314\n",
      "\n",
      "Brazil and Mexico\n",
      "Winner: Brazil\n",
      "Probability of Brazil winning:  0.702\n",
      "Probability of Draw:  0.199\n",
      "Probaility of Mexico winning:  0.098\n",
      "\n",
      "England and Colombia\n",
      "Winner: England\n",
      "Probability of England winning:  0.513\n",
      "Probability of Draw:  0.367\n",
      "Probaility of Colombia winning:  0.120\n",
      "\n",
      "Spain and Russia\n",
      "Winner: Spain\n",
      "Probability of Spain winning:  0.520\n",
      "Probability of Draw:  0.270\n",
      "Probaility of Russia winning:  0.211\n",
      "\n",
      "Argentina and Peru\n",
      "Winner: Argentina\n",
      "Probability of Argentina winning:  0.684\n",
      "Probability of Draw:  0.249\n",
      "Probaility of Peru winning:  0.066\n",
      "\n",
      "Germany and Switzerland\n",
      "Winner: Germany\n",
      "Probability of Germany winning:  0.668\n",
      "Probability of Draw:  0.214\n",
      "Probaility of Switzerland winning:  0.118\n",
      "\n",
      "Belgium and Poland\n",
      "Winner: Belgium\n",
      "Probability of Belgium winning:  0.503\n",
      "Probability of Draw:  0.209\n",
      "Probaility of Poland winning:  0.288\n",
      "\n"
     ]
    }
   ],
   "source": [
    "def clean_and_predict(matches, ranking, final, logreg):\n",
    "    #Initialization of auxiliary list for data cleaning\n",
    "    positions = []\n",
    "\n",
    "    #Loop to retrieve each team's position according to FIFA ranking\n",
    "    for match in matches:\n",
    "        positions.append(ranking.loc[ranking['Team'] == match[0], 'Position'].iloc[0])\n",
    "        positions.append(ranking.loc[ranking['Team'] == match[1], 'Position'].iloc[0])\n",
    "\n",
    "    #Creating the DataFrame for prediction\n",
    "    pred_set = []\n",
    "\n",
    "    #initalizaing iterators for while loop\n",
    "    i = 0\n",
    "    j = 0\n",
    "\n",
    "    # 'i' will be the iterator for the 'position' list, and 'j' for the list of matches (list of tuples)\n",
    "\n",
    "    while i < len(positions):\n",
    "        dict1 = {}\n",
    "\n",
    "        # if position of first team is better, he will be the 'home' team, and vice-versa\n",
    "        if positions[i] < positions[i + 1]:\n",
    "            dict1.update({'home_team': matches[j][0], 'away_team': matches[j][1]})\n",
    "        else:\n",
    "            dict1.update({'home_team': matches[j][1], 'away_team': matches[j][0]})\n",
    "\n",
    "        #Append updated dictionary to the list, that will later be converted into a DataFrame\n",
    "        pred_set.append(dict1)\n",
    "        i += 2\n",
    "        j += 1\n",
    "\n",
    "    #Covert list into DataFrame\n",
    "    pred_set = pd.DataFrame(pred_set)\n",
    "    backup_pred_set = pred_set\n",
    "\n",
    "    #Get dummy variables and drop winning_team column\n",
    "    pred_set = pd.get_dummies(pred_set, prefix = ['home_team', 'away_team'], columns = ['home_team', 'away_team'])\n",
    "\n",
    "    #Add missing columns compared to the model's training dataset\n",
    "    missing_cols2 = set(final.columns) - set(pred_set.columns)\n",
    "    for c in missing_cols2:\n",
    "        pred_set[c] = 0\n",
    "    pred_set = pred_set[final.columns]\n",
    "\n",
    "    #Remove winning team column\n",
    "    pred_set = pred_set.drop(['winning_team'], axis=1)\n",
    "\n",
    "    #Prediction\n",
    "    predictions = logreg.predict(pred_set)\n",
    "    for i in range(len(pred_set)):\n",
    "        print(backup_pred_set.iloc[i,1] + ' and ' + backup_pred_set.iloc[i,0])\n",
    "        if predictions[i] == 2:\n",
    "            print('Winner: ' + backup_pred_set.iloc[i,1])\n",
    "        elif predictions[i] == 1:\n",
    "            print('Draw')\n",
    "        elif predictions[i] == 0:\n",
    "            print('Winner: ' + backup_pred_set.iloc[i, 0])\n",
    "        print('Probability of ' + backup_pred_set.iloc[i,1] + ' winning: ', '%.3f'%(logreg.predict_proba(pred_set)[i][2]))\n",
    "        print('Probability of Draw: ', '%.3f'%(logreg.predict_proba(pred_set)[i][1]))\n",
    "        print('Probaility of ' + backup_pred_set.iloc[i, 0] + ' winning: ', '%.3f'%(logreg.predict_proba(pred_set)[i][0]))\n",
    "        print('')\n",
    "\n",
    "clean_and_predict(group_16, ranking, final, logreg)"
   ]
  },
  {
   "cell_type": "markdown",
   "metadata": {},
   "source": [
    "Our model has projected the winners in the knockout stage, based on our feature selection. Germany, Brazil, and Argentina both have a two-thirds chance of defeating their opponents in the knockout stage. Belgium and Spain have a coin-flip's chance of winning, while France and Portgual have less than 50% chance of winning."
   ]
  },
  {
   "cell_type": "markdown",
   "metadata": {},
   "source": [
    "#### Quarter-Finals\n",
    "\n",
    "Using the same function, we will now create a list a tuples based on the projected outcome of our Group of 16 matches."
   ]
  },
  {
   "cell_type": "code",
   "execution_count": 41,
   "metadata": {},
   "outputs": [
    {
     "name": "stdout",
     "output_type": "stream",
     "text": [
      "Portugal and France\n",
      "Winner: Portugal\n",
      "Probability of Portugal winning:  0.429\n",
      "Probability of Draw:  0.298\n",
      "Probaility of France winning:  0.272\n",
      "\n",
      "Argentina and Spain\n",
      "Winner: Argentina\n",
      "Probability of Argentina winning:  0.520\n",
      "Probability of Draw:  0.269\n",
      "Probaility of Spain winning:  0.210\n",
      "\n",
      "Brazil and England\n",
      "Winner: Brazil\n",
      "Probability of Brazil winning:  0.525\n",
      "Probability of Draw:  0.219\n",
      "Probaility of England winning:  0.256\n",
      "\n",
      "Germany and Belgium\n",
      "Winner: Germany\n",
      "Probability of Germany winning:  0.580\n",
      "Probability of Draw:  0.257\n",
      "Probaility of Belgium winning:  0.163\n",
      "\n"
     ]
    }
   ],
   "source": [
    "quarters = [('Portugal', 'France'),\n",
    "            ('Spain', 'Argentina'),\n",
    "            ('Brazil', 'England'),\n",
    "            ('Germany', 'Belgium')]\n",
    "\n",
    "clean_and_predict(quarters, ranking, final, logreg)"
   ]
  },
  {
   "cell_type": "markdown",
   "metadata": {},
   "source": [
    "As the tournament progresses, the winners become less certain, according to our model. "
   ]
  },
  {
   "cell_type": "markdown",
   "metadata": {},
   "source": [
    "#### Semi-Finals\n",
    "\n",
    "Now we create a list of tuples based on the projected winners of the Quarter-Final matches. We once again have Argentina and Germany matched up again, except this time it is a Semi-Finals match instead of a grand finals match."
   ]
  },
  {
   "cell_type": "code",
   "execution_count": 42,
   "metadata": {},
   "outputs": [
    {
     "name": "stdout",
     "output_type": "stream",
     "text": [
      "Brazil and France\n",
      "Winner: Brazil\n",
      "Probability of Brazil winning:  0.657\n",
      "Probability of Draw:  0.184\n",
      "Probaility of France winning:  0.159\n",
      "\n",
      "Germany and Argentina\n",
      "Winner: Germany\n",
      "Probability of Germany winning:  0.436\n",
      "Probability of Draw:  0.281\n",
      "Probaility of Argentina winning:  0.283\n",
      "\n"
     ]
    }
   ],
   "source": [
    "semi = [('France', 'Brazil'),\n",
    "        ('Argentina', 'Germany')]\n",
    "\n",
    "clean_and_predict(semi, ranking, final, logreg)"
   ]
  },
  {
   "cell_type": "markdown",
   "metadata": {},
   "source": [
    "The same as last time, Germany emerges as the victor. We also have France winning its projected match against Brazil."
   ]
  },
  {
   "cell_type": "markdown",
   "metadata": {},
   "source": [
    "#### Grand Finals\n",
    "\n",
    "This time, we will only create one list of with the semi-final winners: Germany and France."
   ]
  },
  {
   "cell_type": "code",
   "execution_count": 43,
   "metadata": {},
   "outputs": [
    {
     "name": "stdout",
     "output_type": "stream",
     "text": [
      "Germany and France\n",
      "Winner: Germany\n",
      "Probability of Germany winning:  0.526\n",
      "Probability of Draw:  0.247\n",
      "Probaility of France winning:  0.227\n",
      "\n"
     ]
    }
   ],
   "source": [
    "finals = [('France', 'Germany')]\n",
    "\n",
    "clean_and_predict(finals, ranking, final, logreg)"
   ]
  },
  {
   "cell_type": "markdown",
   "metadata": {},
   "source": [
    "According to the model, Germany is likely to win the World Cup, although, it isn’t possible for repeat champions to emerge. The last time this occur was during the 1962 in Chile."
   ]
  },
  {
   "cell_type": "markdown",
   "metadata": {},
   "source": [
    "## Areas of Further Research/Improvement\n",
    "\n",
    "* For improvements of the datasets, we could use FIFA (the game, not the organization), to assess the quality of each team player\n",
    "* A confusion maxtrix would be great to analyze\n",
    "* Using more models together to improve accuracy"
   ]
  },
  {
   "cell_type": "markdown",
   "metadata": {},
   "source": [
    "## Conclusion\n",
    "\n",
    "There is so much that can be improved upon here. For now, lets see if we get any lucky."
   ]
  },
  {
   "cell_type": "code",
   "execution_count": null,
   "metadata": {},
   "outputs": [],
   "source": []
  }
 ],
 "metadata": {
  "kernelspec": {
   "display_name": "Python 3",
   "language": "python",
   "name": "python3"
  },
  "language_info": {
   "codemirror_mode": {
    "name": "ipython",
    "version": 3
   },
   "file_extension": ".py",
   "mimetype": "text/x-python",
   "name": "python",
   "nbconvert_exporter": "python",
   "pygments_lexer": "ipython3",
   "version": "3.7.3"
  }
 },
 "nbformat": 4,
 "nbformat_minor": 4
}
